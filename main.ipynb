{
 "cells": [
  {
   "cell_type": "code",
   "execution_count": null,
   "id": "ff4d8468",
   "metadata": {},
   "outputs": [
    {
     "name": "stdout",
     "output_type": "stream",
     "text": [
      "=== EXPLORATION INITIALE DES DONNÉES OPTIVER ===\n",
      "\n",
      "1. Vérification des fichiers disponibles:\n",
      "book_train  : ✓ (raw_data/book_train.parquet)\n",
      "book_test   : ✓ (raw_data/book_test.parquet)\n",
      "trade_train : ✓ (raw_data/trade_train.parquet)\n",
      "trade_test  : ✓ (raw_data/trade_test.parquet)\n",
      "train_csv   : ✓ (raw_data/train.csv)\n",
      "test_csv    : ✓ (raw_data/test.csv)\n",
      "\n",
      "2. Exploration de la structure des fichiers:\n",
      "\n",
      "=== Structure de book_train.parquet ===\n",
      "Erreur lors de la lecture des métadonnées: Cannot open for reading: path 'raw_data/book_train.parquet' is a directory\n"
     ]
    },
    {
     "ename": "UnboundLocalError",
     "evalue": "cannot access local variable 'parquet_file' where it is not associated with a value",
     "output_type": "error",
     "traceback": [
      "\u001b[31m---------------------------------------------------------------------------\u001b[39m",
      "\u001b[31mUnboundLocalError\u001b[39m                         Traceback (most recent call last)",
      "\u001b[36mCell\u001b[39m\u001b[36m \u001b[39m\u001b[32mIn[6]\u001b[39m\u001b[32m, line 6\u001b[39m\n\u001b[32m      3\u001b[39m \u001b[38;5;28;01mfrom\u001b[39;00m\u001b[38;5;250m \u001b[39m\u001b[34;01mvisualize_data\u001b[39;00m\u001b[38;5;250m \u001b[39m\u001b[38;5;28;01mimport\u001b[39;00m visualize_data\n\u001b[32m      5\u001b[39m \u001b[38;5;66;03m# 1. Exploration initiale\u001b[39;00m\n\u001b[32m----> \u001b[39m\u001b[32m6\u001b[39m loader, book_data, trade_data, target_data = \u001b[43mmain\u001b[49m\u001b[43m(\u001b[49m\u001b[43m)\u001b[49m\n\u001b[32m      8\u001b[39m \u001b[38;5;66;03m# 2. Visualisations\u001b[39;00m\n\u001b[32m      9\u001b[39m visualize_data(loader, book_data, trade_data, target_data)\n",
      "\u001b[36mFile \u001b[39m\u001b[32m~/Desktop/Volatility/Realized-Volatility-Prediction/load_data.py:156\u001b[39m, in \u001b[36mmain\u001b[39m\u001b[34m()\u001b[39m\n\u001b[32m    154\u001b[39m \u001b[38;5;28mprint\u001b[39m(\u001b[33m\"\u001b[39m\u001b[38;5;130;01m\\n\u001b[39;00m\u001b[33m2. Exploration de la structure des fichiers:\u001b[39m\u001b[33m\"\u001b[39m)\n\u001b[32m    155\u001b[39m \u001b[38;5;28;01mif\u001b[39;00m files_status.get(\u001b[33m'\u001b[39m\u001b[33mbook_train\u001b[39m\u001b[33m'\u001b[39m):\n\u001b[32m--> \u001b[39m\u001b[32m156\u001b[39m     \u001b[43mloader\u001b[49m\u001b[43m.\u001b[49m\u001b[43mexplore_parquet_structure\u001b[49m\u001b[43m(\u001b[49m\u001b[43mloader\u001b[49m\u001b[43m.\u001b[49m\u001b[43mbook_train_path\u001b[49m\u001b[43m)\u001b[49m\n\u001b[32m    157\u001b[39m \u001b[38;5;28;01mif\u001b[39;00m files_status.get(\u001b[33m'\u001b[39m\u001b[33mtrade_train\u001b[39m\u001b[33m'\u001b[39m):\n\u001b[32m    158\u001b[39m     loader.explore_parquet_structure(loader.trade_train_path)\n",
      "\u001b[36mFile \u001b[39m\u001b[32m~/Desktop/Volatility/Realized-Volatility-Prediction/load_data.py:64\u001b[39m, in \u001b[36mDataLoader.explore_parquet_structure\u001b[39m\u001b[34m(self, parquet_path)\u001b[39m\n\u001b[32m     61\u001b[39m \u001b[38;5;28;01mexcept\u001b[39;00m \u001b[38;5;167;01mException\u001b[39;00m \u001b[38;5;28;01mas\u001b[39;00m e:\n\u001b[32m     62\u001b[39m     \u001b[38;5;28mprint\u001b[39m(\u001b[33mf\u001b[39m\u001b[33m\"\u001b[39m\u001b[33mErreur lors de la lecture des métadonnées: \u001b[39m\u001b[38;5;132;01m{\u001b[39;00me\u001b[38;5;132;01m}\u001b[39;00m\u001b[33m\"\u001b[39m)\n\u001b[32m---> \u001b[39m\u001b[32m64\u001b[39m \u001b[38;5;28;01mreturn\u001b[39;00m \u001b[43mparquet_file\u001b[49m\n",
      "\u001b[31mUnboundLocalError\u001b[39m: cannot access local variable 'parquet_file' where it is not associated with a value"
     ]
    }
   ],
   "source": [
    "# Dans ton notebook ou script principal\n",
    "from load_data import main, DataLoader\n",
    "from visualize_data import visualize_data\n",
    "\n",
    "# 1. Exploration initiale\n",
    "loader, book_data, trade_data, target_data = main()\n",
    "\n",
    "# 2. Visualisations\n",
    "visualize_data(loader, book_data, trade_data, target_data)"
   ]
  }
 ],
 "metadata": {
  "kernelspec": {
   "display_name": ".venv",
   "language": "python",
   "name": "python3"
  },
  "language_info": {
   "codemirror_mode": {
    "name": "ipython",
    "version": 3
   },
   "file_extension": ".py",
   "mimetype": "text/x-python",
   "name": "python",
   "nbconvert_exporter": "python",
   "pygments_lexer": "ipython3",
   "version": "3.13.5"
  }
 },
 "nbformat": 4,
 "nbformat_minor": 5
}
